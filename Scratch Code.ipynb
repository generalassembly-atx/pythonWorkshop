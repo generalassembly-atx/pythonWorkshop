{
 "cells": [
  {
   "cell_type": "code",
   "execution_count": 11,
   "metadata": {
    "collapsed": false
   },
   "outputs": [
    {
     "data": {
      "text/plain": [
       "'test 12 10'"
      ]
     },
     "execution_count": 11,
     "metadata": {},
     "output_type": "execute_result"
    }
   ],
   "source": [
    "\"test {1} {0}\".format(10,12)"
   ]
  },
  {
   "cell_type": "code",
   "execution_count": 15,
   "metadata": {
    "collapsed": false
   },
   "outputs": [
    {
     "data": {
      "text/plain": [
       "'My name is Craig'"
      ]
     },
     "execution_count": 15,
     "metadata": {},
     "output_type": "execute_result"
    }
   ],
   "source": [
    "\"My name is {}\".format(\"Craig\")"
   ]
  },
  {
   "cell_type": "code",
   "execution_count": 16,
   "metadata": {
    "collapsed": false
   },
   "outputs": [
    {
     "name": "stdout",
     "output_type": "stream",
     "text": [
      "[1, 2, 3, 4, 5, 6, 7, 8, 9]\n"
     ]
    }
   ],
   "source": [
    "numbers = [1, 2, 3,\n",
    "          4, 5, 6,\n",
    "          7, 8, 9]\n",
    "print numbers"
   ]
  },
  {
   "cell_type": "code",
   "execution_count": 18,
   "metadata": {
    "collapsed": false
   },
   "outputs": [
    {
     "name": "stdout",
     "output_type": "stream",
     "text": [
      "This is a really, really, really long sentence\n"
     ]
    }
   ],
   "source": [
    "long_string = \"This is a really, really, really \" \\\n",
    "                        + \"long sentence\"\n",
    "print long_string"
   ]
  },
  {
   "cell_type": "markdown",
   "metadata": {},
   "source": [
    "### String Challenge Problem\n",
    "##### Problem 1:\n",
    "* Create a function that converts Celsius to Fahrenheit.  Returns converted value. Results should be accurate to at least one decimal point.\n",
    "* Update your function to return a sentence (string type) with the Celsius and Fahrenheit values inserted into the string. ”You input 10 the converted value is …”\n",
    "\n",
    "The formula is C = (5 / 9) * (F – 32)`\n",
    "\n",
    "##### Problem 2:\n",
    "\n",
    "Calculate the amount obtained by investing the principal P for N years at the rate of R. The following formula is used for the conversion:\n",
    "A = P * (1 + R) ^ N"
   ]
  },
  {
   "cell_type": "markdown",
   "metadata": {},
   "source": [
    "### If Statement Challenge Problem\n",
    "\n",
    "* Create a function that checks the type of an input and returns True if the input is numeric (float or integer) or a False if it is another data type.\n",
    "* Update your temperature function from the Python Fundamentals exercise to return an error message if a string is entered instead of a number"
   ]
  },
  {
   "cell_type": "code",
   "execution_count": null,
   "metadata": {
    "collapsed": true
   },
   "outputs": [],
   "source": []
  },
  {
   "cell_type": "markdown",
   "metadata": {},
   "source": [
    "### Challenge Problem\n",
    "* Create a function that finds the maximum integer in a list of integers.\n",
    "* Update your function to return a sentence (string type) that states “The maximum value of the list [1,4,2,3] is 4”"
   ]
  },
  {
   "cell_type": "code",
   "execution_count": null,
   "metadata": {
    "collapsed": true
   },
   "outputs": [],
   "source": []
  }
 ],
 "metadata": {
  "kernelspec": {
   "display_name": "Python 2",
   "language": "python",
   "name": "python2"
  },
  "language_info": {
   "codemirror_mode": {
    "name": "ipython",
    "version": 2
   },
   "file_extension": ".py",
   "mimetype": "text/x-python",
   "name": "python",
   "nbconvert_exporter": "python",
   "pygments_lexer": "ipython2",
   "version": "2.7.12"
  }
 },
 "nbformat": 4,
 "nbformat_minor": 2
}
